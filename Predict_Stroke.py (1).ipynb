{
 "cells": [
  {
   "cell_type": "code",
   "execution_count": 1,
   "id": "51bd39cf",
   "metadata": {},
   "outputs": [],
   "source": [
    "from statistics import mean\n",
    "import numpy as np\n",
    "import pandas as pd\n",
    "from imblearn.pipeline import Pipeline\n",
    "from matplotlib import pyplot as plt\n",
    "from mlxtend.evaluate import accuracy_score, bias_variance_decomp\n",
    "from sklearn.ensemble import RandomForestClassifier\n",
    "from sklearn.feature_selection import RFE, RFECV\n",
    "from sklearn.impute import KNNImputer\n",
    "from sklearn.linear_model import LogisticRegression\n",
    "from sklearn.naive_bayes import GaussianNB\n",
    "from sklearn.neighbors import NeighborhoodComponentsAnalysis, KNeighborsClassifier\n",
    "from sklearn.tree import DecisionTreeClassifier\n",
    "\n",
    "pd.options.mode.chained_assignment = None\n",
    "from sklearn.model_selection import train_test_split, RepeatedStratifiedKFold, cross_val_score\n",
    "from sklearn import preprocessing, svm\n",
    "from imblearn.over_sampling import RandomOverSampler"
   ]
  },
  {
   "cell_type": "markdown",
   "id": "151a9a0a",
   "metadata": {},
   "source": [
    "Read dataset from local directory and drop id column"
   ]
  },
  {
   "cell_type": "code",
   "execution_count": 2,
   "id": "4653936e",
   "metadata": {},
   "outputs": [],
   "source": [
    "stroke_df = pd.read_excel(r\"C:\\Users\\rinat\\OneDrive\\Desktop\\SCHOOL STUFF\\Machine Learning\\stroke_data.xlsx\")\n",
    "stroke_df = stroke_df.drop(['id'], axis=1)"
   ]
  },
  {
   "cell_type": "markdown",
   "id": "d23f1e4f",
   "metadata": {},
   "source": [
    "Apply whitespace remover"
   ]
  },
  {
   "cell_type": "code",
   "execution_count": 3,
   "id": "edd76010",
   "metadata": {},
   "outputs": [],
   "source": [
    "def whitespace_remover(dataframe):\n",
    "    for i in dataframe.columns:\n",
    "        if dataframe[i].dtype == 'object':\n",
    "            dataframe[i] = dataframe[i].map(str.strip)\n",
    "        else:\n",
    "            pass\n",
    "\n",
    "# applying whitespace_remover function on dataframe\n",
    "whitespace_remover(stroke_df)\n"
   ]
  },
  {
   "cell_type": "markdown",
   "id": "a3495feb",
   "metadata": {},
   "source": [
    "Apply encoding and impute NaN values"
   ]
  },
  {
   "cell_type": "code",
   "execution_count": 4,
   "id": "542fa7d8",
   "metadata": {},
   "outputs": [
    {
     "name": "stdout",
     "output_type": "stream",
     "text": [
      "       age  hypertension  heart_disease  avg_glucose_level           bmi  \\\n",
      "0     67.0           0.0            1.0             228.69  3.660000e+01   \n",
      "1     61.0           0.0            0.0             202.21  1.000000e+09   \n",
      "2     80.0           0.0            1.0             105.92  3.250000e+01   \n",
      "3     49.0           0.0            0.0             171.23  3.440000e+01   \n",
      "4     79.0           1.0            0.0             174.12  2.400000e+01   \n",
      "...    ...           ...            ...                ...           ...   \n",
      "5105  80.0           1.0            0.0              83.75  1.000000e+09   \n",
      "5106  81.0           0.0            0.0             125.20  4.000000e+01   \n",
      "5107  35.0           0.0            0.0              82.99  3.060000e+01   \n",
      "5108  51.0           0.0            0.0             166.29  2.560000e+01   \n",
      "5109  44.0           0.0            0.0              85.28  2.620000e+01   \n",
      "\n",
      "      stroke  gender_Female  gender_Male  gender_Other  ever_married_No  ...  \\\n",
      "0        1.0            0.0          1.0           0.0              0.0  ...   \n",
      "1        1.0            1.0          0.0           0.0              0.0  ...   \n",
      "2        1.0            0.0          1.0           0.0              0.0  ...   \n",
      "3        1.0            1.0          0.0           0.0              0.0  ...   \n",
      "4        1.0            1.0          0.0           0.0              0.0  ...   \n",
      "...      ...            ...          ...           ...              ...  ...   \n",
      "5105     0.0            1.0          0.0           0.0              0.0  ...   \n",
      "5106     0.0            1.0          0.0           0.0              0.0  ...   \n",
      "5107     0.0            1.0          0.0           0.0              0.0  ...   \n",
      "5108     0.0            0.0          1.0           0.0              0.0  ...   \n",
      "5109     0.0            1.0          0.0           0.0              0.0  ...   \n",
      "\n",
      "      work_type_Never_worked  work_type_Private  work_type_Self-employed  \\\n",
      "0                        0.0                1.0                      0.0   \n",
      "1                        0.0                0.0                      1.0   \n",
      "2                        0.0                1.0                      0.0   \n",
      "3                        0.0                1.0                      0.0   \n",
      "4                        0.0                0.0                      1.0   \n",
      "...                      ...                ...                      ...   \n",
      "5105                     0.0                1.0                      0.0   \n",
      "5106                     0.0                0.0                      1.0   \n",
      "5107                     0.0                0.0                      1.0   \n",
      "5108                     0.0                1.0                      0.0   \n",
      "5109                     0.0                0.0                      0.0   \n",
      "\n",
      "      work_type_children  Residence_type_Rural  Residence_type_Urban  \\\n",
      "0                    0.0                   0.0                   1.0   \n",
      "1                    0.0                   1.0                   0.0   \n",
      "2                    0.0                   1.0                   0.0   \n",
      "3                    0.0                   0.0                   1.0   \n",
      "4                    0.0                   1.0                   0.0   \n",
      "...                  ...                   ...                   ...   \n",
      "5105                 0.0                   0.0                   1.0   \n",
      "5106                 0.0                   0.0                   1.0   \n",
      "5107                 0.0                   1.0                   0.0   \n",
      "5108                 0.0                   1.0                   0.0   \n",
      "5109                 0.0                   0.0                   1.0   \n",
      "\n",
      "      smoking_status_Unknown  smoking_status_formerly smoked  \\\n",
      "0                        0.0                             1.0   \n",
      "1                        0.0                             0.0   \n",
      "2                        0.0                             0.0   \n",
      "3                        0.0                             0.0   \n",
      "4                        0.0                             0.0   \n",
      "...                      ...                             ...   \n",
      "5105                     0.0                             0.0   \n",
      "5106                     0.0                             0.0   \n",
      "5107                     0.0                             0.0   \n",
      "5108                     0.0                             1.0   \n",
      "5109                     1.0                             0.0   \n",
      "\n",
      "      smoking_status_never smoked  smoking_status_smokes  \n",
      "0                             0.0                    0.0  \n",
      "1                             1.0                    0.0  \n",
      "2                             1.0                    0.0  \n",
      "3                             0.0                    1.0  \n",
      "4                             1.0                    0.0  \n",
      "...                           ...                    ...  \n",
      "5105                          1.0                    0.0  \n",
      "5106                          1.0                    0.0  \n",
      "5107                          1.0                    0.0  \n",
      "5108                          0.0                    0.0  \n",
      "5109                          0.0                    0.0  \n",
      "\n",
      "[5110 rows x 22 columns]\n"
     ]
    }
   ],
   "source": [
    "# Apply One Hot Encoder\n",
    "stroke_df = pd.get_dummies(stroke_df)\n",
    "\n",
    "# Impute NaN values\n",
    "stroke_df = stroke_df.fillna(1000000000)\n",
    "stroke_df = stroke_df.replace(100000000, np.nan)\n",
    "imputer = KNNImputer(n_neighbors=5)\n",
    "stroke_df = pd.DataFrame(imputer.fit_transform(stroke_df), columns=stroke_df.columns)\n",
    "print(stroke_df)"
   ]
  },
  {
   "cell_type": "markdown",
   "id": "1a8cdd49",
   "metadata": {},
   "source": [
    "Visualize y class with imbalance"
   ]
  },
  {
   "cell_type": "code",
   "execution_count": 5,
   "id": "44a40dc6",
   "metadata": {},
   "outputs": [
    {
     "data": {
      "image/png": "[encoded data removed]",
      "text/plain": [
       "<Figure size 640x480 with 1 Axes>"
      ]
     },
     "metadata": {},
     "output_type": "display_data"
    }
   ],
   "source": [
    "#Visualize y class\n",
    "stroke_df['stroke'].value_counts().plot.bar()\n",
    "plt.title('Stroke Counts', fontsize=18)\n",
    "plt.xlabel('Stroke Occurrence', fontsize=16)\n",
    "plt.ylabel('Frequency', fontsize=16)\n",
    "plt.show()"
   ]
  },
  {
   "cell_type": "code",
   "execution_count": 6,
   "id": "7bc4f957",
   "metadata": {},
   "outputs": [],
   "source": [
    "# Drop target column\n",
    "features_stroke = pd.DataFrame(stroke_df).drop(['stroke'], axis=1)"
   ]
  },
  {
   "cell_type": "code",
   "execution_count": 7,
   "id": "0871500a",
   "metadata": {},
   "outputs": [],
   "source": [
    "# Set X and Y\n",
    "X = features_stroke\n",
    "X_normalized = preprocessing.normalize(X, norm='l2')\n",
    "stroke_target_cols = ['stroke']\n",
    "y = (stroke_df[stroke_target_cols].astype(int).values.ravel())"
   ]
  },
  {
   "cell_type": "code",
   "execution_count": 8,
   "id": "381ab867",
   "metadata": {},
   "outputs": [],
   "source": [
    "# Apply Oversampling\n",
    "ros = RandomOverSampler(random_state=42)\n",
    "x_ros, y_ros = ros.fit_resample(X_normalized, y)"
   ]
  },
  {
   "cell_type": "markdown",
   "id": "de408908",
   "metadata": {},
   "source": [
    "Visualize y class after oversampling"
   ]
  },
  {
   "cell_type": "code",
   "execution_count": 9,
   "id": "4fe14d8f",
   "metadata": {},
   "outputs": [
    {
     "data": {
      "image/png": "[encoded data removed]",
      "text/plain": [
       "<Figure size 640x480 with 1 Axes>"
      ]
     },
     "metadata": {},
     "output_type": "display_data"
    }
   ],
   "source": [
    "target = pd.DataFrame(y_ros)\n",
    "target.value_counts().plot.bar()\n",
    "plt.title('Oversampled_Stroke Count', fontsize=18)\n",
    "plt.xlabel('Stroke Occurrence', fontsize=16)\n",
    "plt.ylabel('Frequency', fontsize=16)\n",
    "plt.show()"
   ]
  },
  {
   "cell_type": "code",
   "execution_count": 10,
   "id": "0cc8f8af",
   "metadata": {},
   "outputs": [],
   "source": [
    "# Create Test/Train split\n",
    "X_train, X_test, y_train, y_test = train_test_split(x_ros, y_ros, test_size=0.2,\n",
    "                                                    random_state=42) "
   ]
  },
  {
   "cell_type": "code",
   "execution_count": 11,
   "id": "b33db504",
   "metadata": {},
   "outputs": [],
   "source": [
    "# Apply svm classifier\n",
    "clf = svm.SVC(decision_function_shape='ovo')"
   ]
  },
  {
   "cell_type": "code",
   "execution_count": 12,
   "id": "702dd14a",
   "metadata": {},
   "outputs": [
    {
     "data": {
      "text/html": [
       "<style>#sk-container-id-1 {color: black;background-color: white;}#sk-container-id-1 pre{padding: 0;}#sk-container-id-1 div.sk-toggleable {background-color: white;}#sk-container-id-1 label.sk-toggleable__label {cursor: pointer;display: block;width: 100%;margin-bottom: 0;padding: 0.3em;box-sizing: border-box;text-align: center;}#sk-container-id-1 label.sk-toggleable__label-arrow:before {content: \"▸\";float: left;margin-right: 0.25em;color: #696969;}#sk-container-id-1 label.sk-toggleable__label-arrow:hover:before {color: black;}#sk-container-id-1 div.sk-estimator:hover label.sk-toggleable__label-arrow:before {color: black;}#sk-container-id-1 div.sk-toggleable__content {max-height: 0;max-width: 0;overflow: hidden;text-align: left;background-color: #f0f8ff;}#sk-container-id-1 div.sk-toggleable__content pre {margin: 0.2em;color: black;border-radius: 0.25em;background-color: #f0f8ff;}#sk-container-id-1 input.sk-toggleable__control:checked~div.sk-toggleable__content {max-height: 200px;max-width: 100%;overflow: auto;}#sk-container-id-1 input.sk-toggleable__control:checked~label.sk-toggleable__label-arrow:before {content: \"▾\";}#sk-container-id-1 div.sk-estimator input.sk-toggleable__control:checked~label.sk-toggleable__label {background-color: #d4ebff;}#sk-container-id-1 div.sk-label input.sk-toggleable__control:checked~label.sk-toggleable__label {background-color: #d4ebff;}#sk-container-id-1 input.sk-hidden--visually {border: 0;clip: rect(1px 1px 1px 1px);clip: rect(1px, 1px, 1px, 1px);height: 1px;margin: -1px;overflow: hidden;padding: 0;position: absolute;width: 1px;}#sk-container-id-1 div.sk-estimator {font-family: monospace;background-color: #f0f8ff;border: 1px dotted black;border-radius: 0.25em;box-sizing: border-box;margin-bottom: 0.5em;}#sk-container-id-1 div.sk-estimator:hover {background-color: #d4ebff;}#sk-container-id-1 div.sk-parallel-item::after {content: \"\";width: 100%;border-bottom: 1px solid gray;flex-grow: 1;}#sk-container-id-1 div.sk-label:hover label.sk-toggleable__label {background-color: #d4ebff;}#sk-container-id-1 div.sk-serial::before {content: \"\";position: absolute;border-left: 1px solid gray;box-sizing: border-box;top: 0;bottom: 0;left: 50%;z-index: 0;}#sk-container-id-1 div.sk-serial {display: flex;flex-direction: column;align-items: center;background-color: white;padding-right: 0.2em;padding-left: 0.2em;position: relative;}#sk-container-id-1 div.sk-item {position: relative;z-index: 1;}#sk-container-id-1 div.sk-parallel {display: flex;align-items: stretch;justify-content: center;background-color: white;position: relative;}#sk-container-id-1 div.sk-item::before, #sk-container-id-1 div.sk-parallel-item::before {content: \"\";position: absolute;border-left: 1px solid gray;box-sizing: border-box;top: 0;bottom: 0;left: 50%;z-index: -1;}#sk-container-id-1 div.sk-parallel-item {display: flex;flex-direction: column;z-index: 1;position: relative;background-color: white;}#sk-container-id-1 div.sk-parallel-item:first-child::after {align-self: flex-end;width: 50%;}#sk-container-id-1 div.sk-parallel-item:last-child::after {align-self: flex-start;width: 50%;}#sk-container-id-1 div.sk-parallel-item:only-child::after {width: 0;}#sk-container-id-1 div.sk-dashed-wrapped {border: 1px dashed gray;margin: 0 0.4em 0.5em 0.4em;box-sizing: border-box;padding-bottom: 0.4em;background-color: white;}#sk-container-id-1 div.sk-label label {font-family: monospace;font-weight: bold;display: inline-block;line-height: 1.2em;}#sk-container-id-1 div.sk-label-container {text-align: center;}#sk-container-id-1 div.sk-container {/* jupyter's `normalize.less` sets `[hidden] { display: none; }` but bootstrap.min.css set `[hidden] { display: none !important; }` so we also need the `!important` here to be able to override the default hidden behavior on the sphinx rendered scikit-learn.org. See: https://github.com/scikit-learn/scikit-learn/issues/21755 */display: inline-block !important;position: relative;}#sk-container-id-1 div.sk-text-repr-fallback {display: none;}</style><div id=\"sk-container-id-1\" class=\"sk-top-container\"><div class=\"sk-text-repr-fallback\"><pre>SVC(decision_function_shape=&#x27;ovo&#x27;)</pre><b>In a Jupyter environment, please rerun this cell to show the HTML representation or trust the notebook. <br />On GitHub, the HTML representation is unable to render, please try loading this page with nbviewer.org.</b></div><div class=\"sk-container\" hidden><div class=\"sk-item\"><div class=\"sk-estimator sk-toggleable\"><input class=\"sk-toggleable__control sk-hidden--visually\" id=\"sk-estimator-id-1\" type=\"checkbox\" checked><label for=\"sk-estimator-id-1\" class=\"sk-toggleable__label sk-toggleable__label-arrow\">SVC</label><div class=\"sk-toggleable__content\"><pre>SVC(decision_function_shape=&#x27;ovo&#x27;)</pre></div></div></div></div></div>"
      ],
      "text/plain": [
       "SVC(decision_function_shape='ovo')"
      ]
     },
     "execution_count": 12,
     "metadata": {},
     "output_type": "execute_result"
    }
   ],
   "source": [
    "# Train the model using the training sets\n",
    "clf.fit(X_train, y_train)"
   ]
  },
  {
   "cell_type": "code",
   "execution_count": 13,
   "id": "cd62650c",
   "metadata": {},
   "outputs": [],
   "source": [
    "# Predict the response for test dataset\n",
    "y_pred = clf.predict(X_test)"
   ]
  },
  {
   "cell_type": "markdown",
   "id": "805b0cf3",
   "metadata": {},
   "source": [
    "This creates the RFE pipline to select features to use in classification"
   ]
  },
  {
   "cell_type": "code",
   "execution_count": 14,
   "id": "f884ba40",
   "metadata": {},
   "outputs": [],
   "source": [
    "# Create RFE pipeline\n",
    "rfe = RFECV(estimator=DecisionTreeClassifier(random_state=42))\n",
    "model = DecisionTreeClassifier()\n",
    "pipeline = Pipeline(steps=[('s', rfe), ('m', model)])"
   ]
  },
  {
   "cell_type": "code",
   "execution_count": 15,
   "id": "ab426e83",
   "metadata": {},
   "outputs": [],
   "source": [
    "# evaluate model\n",
    "cv = RepeatedStratifiedKFold(n_splits=10, n_repeats=3, random_state=5)\n",
    "n_scores = cross_val_score(pipeline, x_ros, y_ros, scoring='accuracy', cv=cv, n_jobs=-1, error_score='raise')"
   ]
  },
  {
   "cell_type": "code",
   "execution_count": 16,
   "id": "200401be",
   "metadata": {},
   "outputs": [
    {
     "name": "stdout",
     "output_type": "stream",
     "text": [
      "0.9630042703050963\n"
     ]
    }
   ],
   "source": [
    "# report performance\n",
    "print((mean(n_scores)))"
   ]
  },
  {
   "cell_type": "code",
   "execution_count": 17,
   "id": "8d120861",
   "metadata": {},
   "outputs": [
    {
     "name": "stdout",
     "output_type": "stream",
     "text": [
      "0 True 1\n",
      "3 True 1\n",
      "4 True 1\n",
      "['age', 'avg_glucose_level', 'bmi']\n"
     ]
    }
   ],
   "source": [
    "# summarize all features\n",
    "rfe.fit(X,y)\n",
    "feature_cols = []\n",
    "for i, j in zip(range(X.shape[1]), X.columns):\n",
    "    if rfe.support_[i] == True:\n",
    "        feature_cols.append(j)\n",
    "        print(i, rfe.support_[i], rfe.ranking_[i])\n",
    "print(feature_cols)"
   ]
  },
  {
   "cell_type": "markdown",
   "id": "8a2e1096",
   "metadata": {},
   "source": [
    "This section uses selected features to predict whether a patient has a stroke"
   ]
  },
  {
   "cell_type": "code",
   "execution_count": 18,
   "id": "b0fe281c",
   "metadata": {},
   "outputs": [],
   "source": [
    "# Set X and Y\n",
    "X = (stroke_df[feature_cols].astype(int))\n",
    "X_normalized = preprocessing.normalize(X, norm='l2')\n",
    "target_cols = ['stroke']\n",
    "y = (stroke_df[target_cols].astype(int).values.ravel())"
   ]
  },
  {
   "cell_type": "code",
   "execution_count": 19,
   "id": "af088fcf",
   "metadata": {},
   "outputs": [],
   "source": [
    "# Set training and testing split\n",
    "X_train, X_test, y_train, y_test = train_test_split(x_ros, y_ros, test_size=0.26, random_state=1)"
   ]
  },
  {
   "cell_type": "markdown",
   "id": "d6c0f595",
   "metadata": {},
   "source": [
    "This section uses NeighborhoodComponentsAnalysis and KNeighborsClassifier. Other estimators to use in binary classification, which were tested are:\n",
    "LogisticRegression()\n",
    "Svm()\n",
    "GaussianNB()\n",
    "RandomForestClassifier()\n",
    "DecisionTreeClassifier()"
   ]
  },
  {
   "cell_type": "code",
   "execution_count": 20,
   "id": "3fcabbb6",
   "metadata": {},
   "outputs": [
    {
     "data": {
      "text/html": [
       "<style>#sk-container-id-2 {color: black;background-color: white;}#sk-container-id-2 pre{padding: 0;}#sk-container-id-2 div.sk-toggleable {background-color: white;}#sk-container-id-2 label.sk-toggleable__label {cursor: pointer;display: block;width: 100%;margin-bottom: 0;padding: 0.3em;box-sizing: border-box;text-align: center;}#sk-container-id-2 label.sk-toggleable__label-arrow:before {content: \"▸\";float: left;margin-right: 0.25em;color: #696969;}#sk-container-id-2 label.sk-toggleable__label-arrow:hover:before {color: black;}#sk-container-id-2 div.sk-estimator:hover label.sk-toggleable__label-arrow:before {color: black;}#sk-container-id-2 div.sk-toggleable__content {max-height: 0;max-width: 0;overflow: hidden;text-align: left;background-color: #f0f8ff;}#sk-container-id-2 div.sk-toggleable__content pre {margin: 0.2em;color: black;border-radius: 0.25em;background-color: #f0f8ff;}#sk-container-id-2 input.sk-toggleable__control:checked~div.sk-toggleable__content {max-height: 200px;max-width: 100%;overflow: auto;}#sk-container-id-2 input.sk-toggleable__control:checked~label.sk-toggleable__label-arrow:before {content: \"▾\";}#sk-container-id-2 div.sk-estimator input.sk-toggleable__control:checked~label.sk-toggleable__label {background-color: #d4ebff;}#sk-container-id-2 div.sk-label input.sk-toggleable__control:checked~label.sk-toggleable__label {background-color: #d4ebff;}#sk-container-id-2 input.sk-hidden--visually {border: 0;clip: rect(1px 1px 1px 1px);clip: rect(1px, 1px, 1px, 1px);height: 1px;margin: -1px;overflow: hidden;padding: 0;position: absolute;width: 1px;}#sk-container-id-2 div.sk-estimator {font-family: monospace;background-color: #f0f8ff;border: 1px dotted black;border-radius: 0.25em;box-sizing: border-box;margin-bottom: 0.5em;}#sk-container-id-2 div.sk-estimator:hover {background-color: #d4ebff;}#sk-container-id-2 div.sk-parallel-item::after {content: \"\";width: 100%;border-bottom: 1px solid gray;flex-grow: 1;}#sk-container-id-2 div.sk-label:hover label.sk-toggleable__label {background-color: #d4ebff;}#sk-container-id-2 div.sk-serial::before {content: \"\";position: absolute;border-left: 1px solid gray;box-sizing: border-box;top: 0;bottom: 0;left: 50%;z-index: 0;}#sk-container-id-2 div.sk-serial {display: flex;flex-direction: column;align-items: center;background-color: white;padding-right: 0.2em;padding-left: 0.2em;position: relative;}#sk-container-id-2 div.sk-item {position: relative;z-index: 1;}#sk-container-id-2 div.sk-parallel {display: flex;align-items: stretch;justify-content: center;background-color: white;position: relative;}#sk-container-id-2 div.sk-item::before, #sk-container-id-2 div.sk-parallel-item::before {content: \"\";position: absolute;border-left: 1px solid gray;box-sizing: border-box;top: 0;bottom: 0;left: 50%;z-index: -1;}#sk-container-id-2 div.sk-parallel-item {display: flex;flex-direction: column;z-index: 1;position: relative;background-color: white;}#sk-container-id-2 div.sk-parallel-item:first-child::after {align-self: flex-end;width: 50%;}#sk-container-id-2 div.sk-parallel-item:last-child::after {align-self: flex-start;width: 50%;}#sk-container-id-2 div.sk-parallel-item:only-child::after {width: 0;}#sk-container-id-2 div.sk-dashed-wrapped {border: 1px dashed gray;margin: 0 0.4em 0.5em 0.4em;box-sizing: border-box;padding-bottom: 0.4em;background-color: white;}#sk-container-id-2 div.sk-label label {font-family: monospace;font-weight: bold;display: inline-block;line-height: 1.2em;}#sk-container-id-2 div.sk-label-container {text-align: center;}#sk-container-id-2 div.sk-container {/* jupyter's `normalize.less` sets `[hidden] { display: none; }` but bootstrap.min.css set `[hidden] { display: none !important; }` so we also need the `!important` here to be able to override the default hidden behavior on the sphinx rendered scikit-learn.org. See: https://github.com/scikit-learn/scikit-learn/issues/21755 */display: inline-block !important;position: relative;}#sk-container-id-2 div.sk-text-repr-fallback {display: none;}</style><div id=\"sk-container-id-2\" class=\"sk-top-container\"><div class=\"sk-text-repr-fallback\"><pre>Pipeline(steps=[(&#x27;nca&#x27;, NeighborhoodComponentsAnalysis(random_state=42)),\n",
       "                (&#x27;knn&#x27;, KNeighborsClassifier(n_neighbors=10))])</pre><b>In a Jupyter environment, please rerun this cell to show the HTML representation or trust the notebook. <br />On GitHub, the HTML representation is unable to render, please try loading this page with nbviewer.org.</b></div><div class=\"sk-container\" hidden><div class=\"sk-item sk-dashed-wrapped\"><div class=\"sk-label-container\"><div class=\"sk-label sk-toggleable\"><input class=\"sk-toggleable__control sk-hidden--visually\" id=\"sk-estimator-id-2\" type=\"checkbox\" ><label for=\"sk-estimator-id-2\" class=\"sk-toggleable__label sk-toggleable__label-arrow\">Pipeline</label><div class=\"sk-toggleable__content\"><pre>Pipeline(steps=[(&#x27;nca&#x27;, NeighborhoodComponentsAnalysis(random_state=42)),\n",
       "                (&#x27;knn&#x27;, KNeighborsClassifier(n_neighbors=10))])</pre></div></div></div><div class=\"sk-serial\"><div class=\"sk-item\"><div class=\"sk-estimator sk-toggleable\"><input class=\"sk-toggleable__control sk-hidden--visually\" id=\"sk-estimator-id-3\" type=\"checkbox\" ><label for=\"sk-estimator-id-3\" class=\"sk-toggleable__label sk-toggleable__label-arrow\">NeighborhoodComponentsAnalysis</label><div class=\"sk-toggleable__content\"><pre>NeighborhoodComponentsAnalysis(random_state=42)</pre></div></div></div><div class=\"sk-item\"><div class=\"sk-estimator sk-toggleable\"><input class=\"sk-toggleable__control sk-hidden--visually\" id=\"sk-estimator-id-4\" type=\"checkbox\" ><label for=\"sk-estimator-id-4\" class=\"sk-toggleable__label sk-toggleable__label-arrow\">KNeighborsClassifier</label><div class=\"sk-toggleable__content\"><pre>KNeighborsClassifier(n_neighbors=10)</pre></div></div></div></div></div></div></div>"
      ],
      "text/plain": [
       "Pipeline(steps=[('nca', NeighborhoodComponentsAnalysis(random_state=42)),\n",
       "                ('knn', KNeighborsClassifier(n_neighbors=10))])"
      ]
     },
     "execution_count": 20,
     "metadata": {},
     "output_type": "execute_result"
    }
   ],
   "source": [
    "# kNN\n",
    "nca = NeighborhoodComponentsAnalysis(random_state=42)\n",
    "knn = KNeighborsClassifier(n_neighbors=10)\n",
    "nca_pipe = Pipeline([('nca', nca), ('knn', knn)])\n",
    "nca_pipe.fit(x_ros, y_ros)"
   ]
  },
  {
   "cell_type": "code",
   "execution_count": 21,
   "id": "48e7fa57",
   "metadata": {},
   "outputs": [],
   "source": [
    "# Predict the response for test dataset\n",
    "y_pred = nca_pipe.predict(X_test)"
   ]
  },
  {
   "cell_type": "markdown",
   "id": "c4b70877",
   "metadata": {},
   "source": [
    "This section reports the results of the classification"
   ]
  },
  {
   "cell_type": "code",
   "execution_count": 22,
   "id": "47c5a88e",
   "metadata": {},
   "outputs": [
    {
     "name": "stdout",
     "output_type": "stream",
     "text": [
      "1204 77\n",
      "192 1055\n"
     ]
    }
   ],
   "source": [
    "# Produce Confusion Matrix\n",
    "y_test_list = (list(y_test))\n",
    "y_pred_list = (list(y_pred))\n",
    "PP = []\n",
    "PN = []\n",
    "NN = []\n",
    "NP = []\n",
    "for i, j in zip(y_test_list, y_pred_list):\n",
    "    if i == 0 and j == 0:\n",
    "        NN.append(1)\n",
    "    elif i == 1 and j == 0:\n",
    "        PN.append(1)\n",
    "    elif i == 0 and j == 1:\n",
    "        NP.append(1)\n",
    "    elif i == 1 and j == 1:\n",
    "        PP.append(1)\n",
    "\n",
    "print(len(PP), len(PN))\n",
    "print(len(NP), len(NN))"
   ]
  },
  {
   "cell_type": "code",
   "execution_count": 102,
   "id": "5898551e",
   "metadata": {},
   "outputs": [
    {
     "name": "stdout",
     "output_type": "stream",
     "text": [
      "Enter age:50\n",
      "Enter gender:Male\n",
      "Enter avg_glucose_level:400\n",
      "Enter bmi:49\n",
      "Enter hypertension 0 or 1:1\n",
      "Enter heart_disease 0 or 1:1\n",
      "Enter marriage status, Yes or No:Yes\n",
      "Enter work_type:Private\n",
      "Enter residence_type:Urban\n",
      "Enter smoking_status:smokes\n"
     ]
    },
    {
     "name": "stderr",
     "output_type": "stream",
     "text": [
      "C:\\Users\\rinat\\AppData\\Local\\Temp\\ipykernel_27232\\3102997795.py:18: FutureWarning: The frame.append method is deprecated and will be removed from pandas in a future version. Use pandas.concat instead.\n",
      "  User = User.append(pd.Series(0, index=User.columns), ignore_index=True)\n"
     ]
    },
    {
     "data": {
      "text/html": [
       "<div>\n",
       "<style scoped>\n",
       "    .dataframe tbody tr th:only-of-type {\n",
       "        vertical-align: middle;\n",
       "    }\n",
       "\n",
       "    .dataframe tbody tr th {\n",
       "        vertical-align: top;\n",
       "    }\n",
       "\n",
       "    .dataframe thead th {\n",
       "        text-align: right;\n",
       "    }\n",
       "</style>\n",
       "<table border=\"1\" class=\"dataframe\">\n",
       "  <thead>\n",
       "    <tr style=\"text-align: right;\">\n",
       "      <th></th>\n",
       "      <th>gender_Female</th>\n",
       "      <th>gender_Other</th>\n",
       "      <th>ever_married_No</th>\n",
       "      <th>work_type_Govt_job</th>\n",
       "      <th>work_type_Never_worked</th>\n",
       "      <th>work_type_Self-employed</th>\n",
       "      <th>work_type_children</th>\n",
       "      <th>Residence_type_Rural</th>\n",
       "      <th>smoking_status_Unknown</th>\n",
       "      <th>smoking_status_formerly smoked</th>\n",
       "      <th>...</th>\n",
       "      <th>age_y</th>\n",
       "      <th>hypertension_y</th>\n",
       "      <th>heart_disease_y</th>\n",
       "      <th>avg_glucose_level_y</th>\n",
       "      <th>bmi_y</th>\n",
       "      <th>gender_Male_y</th>\n",
       "      <th>ever_married_Yes_y</th>\n",
       "      <th>work_type_Private_y</th>\n",
       "      <th>Residence_type_Urban_y</th>\n",
       "      <th>smoking_status_smokes_y</th>\n",
       "    </tr>\n",
       "  </thead>\n",
       "  <tbody>\n",
       "    <tr>\n",
       "      <th>0</th>\n",
       "      <td>0</td>\n",
       "      <td>0</td>\n",
       "      <td>0</td>\n",
       "      <td>0</td>\n",
       "      <td>0</td>\n",
       "      <td>0</td>\n",
       "      <td>0</td>\n",
       "      <td>0</td>\n",
       "      <td>0</td>\n",
       "      <td>0</td>\n",
       "      <td>...</td>\n",
       "      <td>50</td>\n",
       "      <td>1</td>\n",
       "      <td>1</td>\n",
       "      <td>400</td>\n",
       "      <td>49</td>\n",
       "      <td>1</td>\n",
       "      <td>1</td>\n",
       "      <td>1</td>\n",
       "      <td>1</td>\n",
       "      <td>1</td>\n",
       "    </tr>\n",
       "  </tbody>\n",
       "</table>\n",
       "<p>1 rows × 21 columns</p>\n",
       "</div>"
      ],
      "text/plain": [
       "  gender_Female gender_Other ever_married_No work_type_Govt_job  \\\n",
       "0             0            0               0                  0   \n",
       "\n",
       "  work_type_Never_worked work_type_Self-employed work_type_children  \\\n",
       "0                      0                       0                  0   \n",
       "\n",
       "  Residence_type_Rural smoking_status_Unknown smoking_status_formerly smoked  \\\n",
       "0                    0                      0                              0   \n",
       "\n",
       "   ... age_y  hypertension_y  heart_disease_y  avg_glucose_level_y  bmi_y  \\\n",
       "0  ...    50               1                1                  400     49   \n",
       "\n",
       "   gender_Male_y  ever_married_Yes_y  work_type_Private_y  \\\n",
       "0              1                   1                    1   \n",
       "\n",
       "   Residence_type_Urban_y  smoking_status_smokes_y  \n",
       "0                       1                        1  \n",
       "\n",
       "[1 rows x 21 columns]"
      ]
     },
     "metadata": {},
     "output_type": "display_data"
    },
    {
     "name": "stdout",
     "output_type": "stream",
     "text": [
      "WILL THIS PERSON HAVE A STROKE? SEE BELOW (0 = NO, 1 = YES)\n",
      "0\n"
     ]
    }
   ],
   "source": [
    "# Test with user input\n",
    "age = int(input(\"Enter age:\"))\n",
    "gender = str(input(\"Enter gender:\"))\n",
    "glucose = int(input(\"Enter avg_glucose_level:\"))\n",
    "bmi = int(input(\"Enter bmi:\"))\n",
    "hypertension = int(input(\"Enter hypertension 0 or 1:\"))\n",
    "heart_disease = int(input(\"Enter heart_disease 0 or 1:\"))\n",
    "ever_married = str(input(\"Enter marriage status, Yes or No:\"))\n",
    "work_type = str(input(\"Enter work_type:\"))\n",
    "Residence_type = str(input(\"Enter residence_type:\"))\n",
    "smoking_status = str(input(\"Enter smoking_status:\"))\n",
    "\n",
    "\n",
    "userInput = [age, gender,hypertension,heart_disease, ever_married, work_type, Residence_type, glucose, bmi,smoking_status]\n",
    "user_list = list(userInput)\n",
    "\n",
    "User = pd.DataFrame(columns = features_stroke.columns)\n",
    "User = User.append(pd.Series(0, index=User.columns), ignore_index=True)\n",
    "User['ind'] = range(1, len(User) + 1)\n",
    "\n",
    "User2 = pd.DataFrame(columns=['age','gender', 'hypertension', 'heart_disease', 'ever_married', 'work_type', 'Residence_type', 'avg_glucose_level', 'bmi','smoking_status'], data=[user_list])\n",
    "User2 = pd.get_dummies(User2)\n",
    "User2['ind'] = range(1, len(User2) + 1)\n",
    "\n",
    "User3 = pd.merge(User, User2, left_on='ind', right_on='ind', how='left')\n",
    "User3_columns = list(User3.columns)\n",
    "\n",
    "x = []\n",
    "y = []\n",
    "for i in User3_columns:\n",
    "    if i.endswith(\"x\"):\n",
    "        x.append(i)\n",
    "    else:\n",
    "        y.append(i)\n",
    "\n",
    "User3 = User3.drop(columns=x)\n",
    "User3 = User3.drop('ind', axis=1)\n",
    "display(User3)\n",
    "X = User3.values.tolist()\n",
    "X_list = X[0]\n",
    "\n",
    "result = nca_pipe.predict([X_list])[0]\n",
    "print(\"WILL THIS PERSON HAVE A STROKE? SEE BELOW (0 = NO, 1 = YES)\")\n",
    "print(result)"
   ]
  },
  {
   "cell_type": "code",
   "execution_count": null,
   "id": "798d323a",
   "metadata": {},
   "outputs": [],
   "source": [
    "# Get Accuracy Score\n",
    "print(accuracy_score(y_test, y_pred))"
   ]
  },
  {
   "cell_type": "code",
   "execution_count": 100,
   "id": "c4ff3dbe",
   "metadata": {},
   "outputs": [
    {
     "name": "stderr",
     "output_type": "stream",
     "text": [
      "\n",
      "KeyboardInterrupt\n",
      "\n"
     ]
    }
   ],
   "source": [
    "# Estimate bias and variance\n",
    "avg_expected_loss, avg_bias, avg_var = bias_variance_decomp(nca_pipe, X_train, y_train, X_test, y_test, loss='mse',\n",
    "                                                            num_rounds=50, random_seed=20)"
   ]
  },
  {
   "cell_type": "code",
   "execution_count": null,
   "id": "677981eb",
   "metadata": {},
   "outputs": [],
   "source": [
    "# Summary of the results\n",
    "print('Average expected loss: %.3f' % avg_expected_loss)\n",
    "print('Average bias: %.3f' % avg_bias)\n",
    "print('Average variance: %.3f' % avg_var)"
   ]
  }
 ],
 "metadata": {
  "kernelspec": {
   "display_name": "Python 3 (ipykernel)",
   "language": "python",
   "name": "python3"
  },
  "language_info": {
   "codemirror_mode": {
    "name": "ipython",
    "version": 3
   },
   "file_extension": ".py",
   "mimetype": "text/x-python",
   "name": "python",
   "nbconvert_exporter": "python",
   "pygments_lexer": "ipython3",
   "version": "3.8.8"
  }
 },
 "nbformat": 4,
 "nbformat_minor": 5
}
